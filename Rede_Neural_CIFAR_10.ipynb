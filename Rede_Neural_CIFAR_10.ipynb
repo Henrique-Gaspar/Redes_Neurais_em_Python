{
  "nbformat": 4,
  "nbformat_minor": 0,
  "metadata": {
    "colab": {
      "name": "Rede Neural - CIFAR 10",
      "provenance": [],
      "collapsed_sections": []
    },
    "kernelspec": {
      "name": "python3",
      "display_name": "Python 3"
    }
  },
  "cells": [
    {
      "cell_type": "code",
      "metadata": {
        "id": "Th55bO9pXp0Q"
      },
      "source": [
        "import pandas as pd\n",
        "from keras.models import Sequential\n",
        "from keras.layers import Dense, Conv2D, Flatten, MaxPool2D, Dropout\n",
        "from keras.layers.normalization import BatchNormalization\n",
        "from keras.utils import np_utils\n",
        "from sklearn.model_selection import train_test_split\n",
        "import matplotlib.pyplot as plt\n",
        "from keras.datasets import cifar10\n",
        "from keras.preprocessing.image import ImageDataGenerator"
      ],
      "execution_count": 88,
      "outputs": []
    },
    {
      "cell_type": "code",
      "metadata": {
        "colab": {
          "base_uri": "https://localhost:8080/"
        },
        "id": "UDJWkmahng4x",
        "outputId": "7af82546-2755-4ebd-bbbf-856eb8d67327"
      },
      "source": [
        "(x_treino, y_treino),(x_teste,y_teste) = cifar10.load_data()"
      ],
      "execution_count": 18,
      "outputs": [
        {
          "output_type": "stream",
          "text": [
            "Downloading data from https://www.cs.toronto.edu/~kriz/cifar-10-python.tar.gz\n",
            "170500096/170498071 [==============================] - 4s 0us/step\n"
          ],
          "name": "stdout"
        }
      ]
    },
    {
      "cell_type": "code",
      "metadata": {
        "colab": {
          "base_uri": "https://localhost:8080/"
        },
        "id": "Rz9hBDwV5pER",
        "outputId": "a7f64927-f752-4c5b-e7fd-d62b8944f6f5"
      },
      "source": [
        "x_teste.shape"
      ],
      "execution_count": 89,
      "outputs": [
        {
          "output_type": "execute_result",
          "data": {
            "text/plain": [
              "(10000, 32, 32, 3)"
            ]
          },
          "metadata": {
            "tags": []
          },
          "execution_count": 89
        }
      ]
    },
    {
      "cell_type": "code",
      "metadata": {
        "id": "-CmtliYb3oZq"
      },
      "source": [
        "x_treino = x_treino.reshape(x_treino.shape[0], 32, 32, 3)\n",
        "x_treino = x_treino.astype('float32')\n",
        "\n",
        "x_teste = x_teste.reshape(x_teste.shape[0], 32, 32, 3)\n",
        "x_teste = x_teste.astype('float32')"
      ],
      "execution_count": 64,
      "outputs": []
    },
    {
      "cell_type": "code",
      "metadata": {
        "id": "l-rOpiNc6vPQ"
      },
      "source": [
        "x_treino /= 255\n",
        "x_teste /= 255"
      ],
      "execution_count": 65,
      "outputs": []
    },
    {
      "cell_type": "code",
      "metadata": {
        "id": "q-stQFbx6_vC"
      },
      "source": [
        "y_treino = np_utils.to_categorical(y_treino, num_classes=10)\n",
        "y_teste = np_utils.to_categorical(y_teste, num_classes=10)"
      ],
      "execution_count": 67,
      "outputs": []
    },
    {
      "cell_type": "code",
      "metadata": {
        "colab": {
          "base_uri": "https://localhost:8080/"
        },
        "id": "XP29WnDS7bKg",
        "outputId": "12d05c06-02d3-436b-b016-4b8933f8b1a5"
      },
      "source": [
        "rede_neural = Sequential()\n",
        "rede_neural.add(Conv2D(filters=32, kernel_size=(3,3), input_shape=(32,32,3), activation='relu'))\n",
        "rede_neural.add(BatchNormalization())\n",
        "rede_neural.add(MaxPool2D(pool_size=(2,2)))\n",
        "\n",
        "rede_neural.add(Conv2D(filters=32, kernel_size=(3,3), activation='relu'))\n",
        "rede_neural.add(BatchNormalization())\n",
        "rede_neural.add(MaxPool2D(pool_size=(2,2)))\n",
        "rede_neural.add(Flatten())\n",
        "\n",
        "rede_neural.add(Dense(units=512, activation='relu'))\n",
        "rede_neural.add(Dropout(0.2))\n",
        "rede_neural.add(Dense(units=128, activation='relu'))\n",
        "rede_neural.add(Dropout(0.2))\n",
        "rede_neural.add(Dense(units=10, activation='softmax'))\n",
        "\n",
        "rede_neural.compile(loss='categorical_crossentropy', optimizer='adam', metrics=['accuracy'])\n",
        "\n",
        "gerador_imagens = ImageDataGenerator(rotation_range=7,\n",
        "                                     horizontal_flip = True,\n",
        "                                     shear_range = 0.2,\n",
        "                                     height_shift_range = 0.07,\n",
        "                                     zoom_range = 0.2)\n",
        "gerador_teste = ImageDataGenerator()\n",
        "base_treinamento = gerador_imagens.flow(x_treino, y_treino, batch_size=128)\n",
        "base_teste = gerador_teste.flow(x_teste, y_teste, batch_size=128)\n",
        "rede_neural.fit_generator(base_treinamento, steps_per_epoch=50000/128, epochs=20, validation_data=base_teste, validation_steps=10000/128)"
      ],
      "execution_count": 94,
      "outputs": [
        {
          "output_type": "stream",
          "text": [
            "/usr/local/lib/python3.7/dist-packages/tensorflow/python/keras/engine/training.py:1844: UserWarning: `Model.fit_generator` is deprecated and will be removed in a future version. Please use `Model.fit`, which supports generators.\n",
            "  warnings.warn('`Model.fit_generator` is deprecated and '\n"
          ],
          "name": "stderr"
        },
        {
          "output_type": "stream",
          "text": [
            "Epoch 1/20\n",
            "390/390 [==============================] - 95s 241ms/step - loss: 1.7826 - accuracy: 0.3728 - val_loss: 1.7656 - val_accuracy: 0.3881\n",
            "Epoch 2/20\n",
            "390/390 [==============================] - 95s 244ms/step - loss: 1.3137 - accuracy: 0.5365 - val_loss: 1.1416 - val_accuracy: 0.5995\n",
            "Epoch 3/20\n",
            "390/390 [==============================] - 95s 244ms/step - loss: 1.1468 - accuracy: 0.5987 - val_loss: 1.0867 - val_accuracy: 0.6218\n",
            "Epoch 4/20\n",
            "390/390 [==============================] - 103s 263ms/step - loss: 1.0402 - accuracy: 0.6362 - val_loss: 1.1037 - val_accuracy: 0.6169\n",
            "Epoch 5/20\n",
            "390/390 [==============================] - 97s 248ms/step - loss: 0.9677 - accuracy: 0.6630 - val_loss: 0.9555 - val_accuracy: 0.6653\n",
            "Epoch 6/20\n",
            "390/390 [==============================] - 96s 245ms/step - loss: 0.9175 - accuracy: 0.6840 - val_loss: 0.9814 - val_accuracy: 0.6658\n",
            "Epoch 7/20\n",
            "390/390 [==============================] - 97s 247ms/step - loss: 0.8625 - accuracy: 0.7006 - val_loss: 0.9556 - val_accuracy: 0.6709\n",
            "Epoch 8/20\n",
            "390/390 [==============================] - 94s 241ms/step - loss: 0.8388 - accuracy: 0.7058 - val_loss: 0.9305 - val_accuracy: 0.6821\n",
            "Epoch 9/20\n",
            "390/390 [==============================] - 95s 243ms/step - loss: 0.8049 - accuracy: 0.7147 - val_loss: 0.9017 - val_accuracy: 0.7002\n",
            "Epoch 10/20\n",
            "390/390 [==============================] - 95s 244ms/step - loss: 0.7814 - accuracy: 0.7273 - val_loss: 1.0242 - val_accuracy: 0.6682\n",
            "Epoch 11/20\n",
            "390/390 [==============================] - 94s 241ms/step - loss: 0.7544 - accuracy: 0.7382 - val_loss: 0.8964 - val_accuracy: 0.7035\n",
            "Epoch 12/20\n",
            "390/390 [==============================] - 95s 243ms/step - loss: 0.7324 - accuracy: 0.7450 - val_loss: 0.8050 - val_accuracy: 0.7267\n",
            "Epoch 13/20\n",
            "390/390 [==============================] - 94s 241ms/step - loss: 0.7150 - accuracy: 0.7539 - val_loss: 0.9829 - val_accuracy: 0.6959\n",
            "Epoch 14/20\n",
            "390/390 [==============================] - 93s 237ms/step - loss: 0.6967 - accuracy: 0.7604 - val_loss: 0.9072 - val_accuracy: 0.6905\n",
            "Epoch 15/20\n",
            "390/390 [==============================] - 92s 236ms/step - loss: 0.6873 - accuracy: 0.7636 - val_loss: 0.8835 - val_accuracy: 0.7003\n",
            "Epoch 16/20\n",
            "390/390 [==============================] - 92s 236ms/step - loss: 0.6663 - accuracy: 0.7695 - val_loss: 0.7871 - val_accuracy: 0.7351\n",
            "Epoch 17/20\n",
            "390/390 [==============================] - 92s 236ms/step - loss: 0.6548 - accuracy: 0.7727 - val_loss: 0.7006 - val_accuracy: 0.7663\n",
            "Epoch 18/20\n",
            "390/390 [==============================] - 92s 234ms/step - loss: 0.6496 - accuracy: 0.7764 - val_loss: 0.6894 - val_accuracy: 0.7634\n",
            "Epoch 19/20\n",
            "390/390 [==============================] - 92s 235ms/step - loss: 0.6383 - accuracy: 0.7792 - val_loss: 0.7219 - val_accuracy: 0.7541\n",
            "Epoch 20/20\n",
            "390/390 [==============================] - 92s 234ms/step - loss: 0.6105 - accuracy: 0.7910 - val_loss: 0.8194 - val_accuracy: 0.7326\n"
          ],
          "name": "stdout"
        },
        {
          "output_type": "execute_result",
          "data": {
            "text/plain": [
              "<tensorflow.python.keras.callbacks.History at 0x7fd033fcee90>"
            ]
          },
          "metadata": {
            "tags": []
          },
          "execution_count": 94
        }
      ]
    },
    {
      "cell_type": "code",
      "metadata": {
        "colab": {
          "base_uri": "https://localhost:8080/"
        },
        "id": "SpDcJHnxL3M3",
        "outputId": "57bce9e0-5054-4370-ec54-71acd940e314"
      },
      "source": [
        "rede_neural.evaluate(x_teste, y_teste)"
      ],
      "execution_count": 96,
      "outputs": [
        {
          "output_type": "stream",
          "text": [
            "313/313 [==============================] - 5s 14ms/step - loss: 0.8194 - accuracy: 0.7326\n"
          ],
          "name": "stdout"
        },
        {
          "output_type": "execute_result",
          "data": {
            "text/plain": [
              "[0.8193997144699097, 0.7325999736785889]"
            ]
          },
          "metadata": {
            "tags": []
          },
          "execution_count": 96
        }
      ]
    }
  ]
}