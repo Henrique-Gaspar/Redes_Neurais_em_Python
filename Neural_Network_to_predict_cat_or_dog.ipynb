{
  "nbformat": 4,
  "nbformat_minor": 0,
  "metadata": {
    "colab": {
      "name": "Neural Network to predict cat or dog.ipynb",
      "provenance": [],
      "collapsed_sections": []
    },
    "kernelspec": {
      "name": "python3",
      "display_name": "Python 3"
    }
  },
  "cells": [
    {
      "cell_type": "code",
      "metadata": {
        "id": "iCYek6JaRcZW"
      },
      "source": [
        "from keras.models import Sequential\n",
        "from keras.layers import Dense, Dropout, Conv2D, MaxPool2D, Flatten\n",
        "from keras.layers.normalization import BatchNormalization\n",
        "from keras.preprocessing.image import ImageDataGenerator\n",
        "import pandas as pd\n",
        "import numpy as np\n",
        "from keras.preprocessing import image"
      ],
      "execution_count": null,
      "outputs": []
    },
    {
      "cell_type": "code",
      "metadata": {
        "id": "hr8kuZyBSWQG"
      },
      "source": [
        "rede_neural = Sequential()\n",
        "\n",
        "rede_neural.add(Conv2D(filters=32, kernel_size=(3,3), input_shape=(64, 64, 3), activation='relu'))\n",
        "rede_neural.add(BatchNormalization())\n",
        "rede_neural.add(MaxPool2D(pool_size=(2,2)))\n",
        "\n",
        "rede_neural.add(Conv2D(filters=32, kernel_size=(3,3), input_shape=(64, 64, 3), activation='relu'))\n",
        "rede_neural.add(BatchNormalization())\n",
        "rede_neural.add(MaxPool2D(pool_size=(2,2)))\n",
        "\n",
        "rede_neural.add(Flatten())\n",
        "\n",
        "rede_neural.add(Dense(units=128, activation='relu'))\n",
        "rede_neural.add(Dropout(0.2))\n",
        "rede_neural.add(Dense(units=128, activation='relu'))\n",
        "rede_neural.add(Dropout(0.2))\n",
        "rede_neural.add(Dense(units=1, activation='sigmoid'))\n",
        "\n",
        "rede_neural.compile(optimizer='adam', loss='binary_crossentropy', metrics=['accuracy'])"
      ],
      "execution_count": null,
      "outputs": []
    },
    {
      "cell_type": "code",
      "metadata": {
        "colab": {
          "base_uri": "https://localhost:8080/"
        },
        "id": "iuf8fmvBSdCo",
        "outputId": "a44bcd6f-a655-4c31-eada-86a0ce405973"
      },
      "source": [
        "gerador_treinamento = ImageDataGenerator(rescale=1./255,\n",
        "                                         rotation_range=7,\n",
        "                                         horizontal_flip=True,\n",
        "                                         shear_range=0.2,\n",
        "                                         height_shift_range=0.07,\n",
        "                                         zoom_range=0.2,)\n",
        "\n",
        "gerador_teste = ImageDataGenerator(rescale=1./255)\n",
        "\n",
        "base_treinamento = gerador_treinamento.flow_from_directory('/content/drive/MyDrive/Dataset redes neurais convolucionais/dataset/training_set',\n",
        "                                                           target_size=(64,64),\n",
        "                                                           batch_size=32,\n",
        "                                                           class_mode='binary')\n",
        "\n",
        "base_teste = gerador_teste.flow_from_directory('/content/drive/MyDrive/Dataset redes neurais convolucionais/dataset/test_set',\n",
        "                                               target_size=(64,64),\n",
        "                                               batch_size=32,\n",
        "                                               class_mode='binary')\n",
        "\n",
        "rede_neural.fit(base_treinamento, steps_per_epoch=4000/32, epochs=15, validation_data=base_teste, validation_steps=1000/32)"
      ],
      "execution_count": null,
      "outputs": [
        {
          "output_type": "stream",
          "text": [
            "Found 4000 images belonging to 2 classes.\n",
            "Found 1000 images belonging to 2 classes.\n",
            "Epoch 1/15\n",
            "125/125 [==============================] - 47s 377ms/step - loss: 0.5315 - accuracy: 0.7232 - val_loss: 0.5886 - val_accuracy: 0.6860\n",
            "Epoch 2/15\n",
            "125/125 [==============================] - 47s 375ms/step - loss: 0.5184 - accuracy: 0.7445 - val_loss: 0.5678 - val_accuracy: 0.7070\n",
            "Epoch 3/15\n",
            "125/125 [==============================] - 47s 375ms/step - loss: 0.4988 - accuracy: 0.7505 - val_loss: 0.5665 - val_accuracy: 0.7070\n",
            "Epoch 4/15\n",
            "125/125 [==============================] - 47s 377ms/step - loss: 0.4934 - accuracy: 0.7585 - val_loss: 0.7749 - val_accuracy: 0.6580\n",
            "Epoch 5/15\n",
            "125/125 [==============================] - 47s 372ms/step - loss: 0.4826 - accuracy: 0.7623 - val_loss: 0.5841 - val_accuracy: 0.7090\n",
            "Epoch 6/15\n",
            "125/125 [==============================] - 47s 376ms/step - loss: 0.4724 - accuracy: 0.7728 - val_loss: 0.5005 - val_accuracy: 0.7730\n",
            "Epoch 7/15\n",
            "125/125 [==============================] - 47s 374ms/step - loss: 0.4482 - accuracy: 0.7822 - val_loss: 0.5911 - val_accuracy: 0.6990\n",
            "Epoch 8/15\n",
            "125/125 [==============================] - 47s 375ms/step - loss: 0.4441 - accuracy: 0.7895 - val_loss: 0.5971 - val_accuracy: 0.7260\n",
            "Epoch 9/15\n",
            "125/125 [==============================] - 47s 375ms/step - loss: 0.4279 - accuracy: 0.7995 - val_loss: 0.5783 - val_accuracy: 0.7320\n",
            "Epoch 10/15\n",
            "125/125 [==============================] - 47s 376ms/step - loss: 0.4136 - accuracy: 0.8087 - val_loss: 0.5766 - val_accuracy: 0.7590\n",
            "Epoch 11/15\n",
            "125/125 [==============================] - 47s 375ms/step - loss: 0.3999 - accuracy: 0.8175 - val_loss: 0.5881 - val_accuracy: 0.7330\n",
            "Epoch 12/15\n",
            "125/125 [==============================] - 47s 374ms/step - loss: 0.3952 - accuracy: 0.8145 - val_loss: 0.5036 - val_accuracy: 0.7720\n",
            "Epoch 13/15\n",
            "125/125 [==============================] - 47s 377ms/step - loss: 0.3890 - accuracy: 0.8242 - val_loss: 0.4870 - val_accuracy: 0.7730\n",
            "Epoch 14/15\n",
            "125/125 [==============================] - 47s 374ms/step - loss: 0.3735 - accuracy: 0.8253 - val_loss: 0.5494 - val_accuracy: 0.7530\n",
            "Epoch 15/15\n",
            "125/125 [==============================] - 47s 372ms/step - loss: 0.3628 - accuracy: 0.8347 - val_loss: 0.4948 - val_accuracy: 0.7770\n"
          ],
          "name": "stdout"
        },
        {
          "output_type": "execute_result",
          "data": {
            "text/plain": [
              "<tensorflow.python.keras.callbacks.History at 0x7fb3bcddab90>"
            ]
          },
          "metadata": {
            "tags": []
          },
          "execution_count": 21
        }
      ]
    },
    {
      "cell_type": "code",
      "metadata": {
        "colab": {
          "base_uri": "https://localhost:8080/"
        },
        "id": "IL3Uvd4LcWGx",
        "outputId": "708ed7f4-42d4-4914-dbdd-78b0f0a3f2a7"
      },
      "source": [
        "base_treinamento.class_indices"
      ],
      "execution_count": null,
      "outputs": [
        {
          "output_type": "execute_result",
          "data": {
            "text/plain": [
              "{'cachorro': 0, 'gato': 1}"
            ]
          },
          "metadata": {
            "tags": []
          },
          "execution_count": 7
        }
      ]
    },
    {
      "cell_type": "code",
      "metadata": {
        "id": "bv3I-c4xbnLD"
      },
      "source": [
        "def cat_or_dog(image_adress):\n",
        "  imagem_teste = image.load_img(image_adress, target_size=(64,64))\n",
        "  imagem_teste = image.img_to_array(imagem_teste)\n",
        "  imagem_teste /= 255\n",
        "  imagem_teste = np.expand_dims(imagem_teste, axis=0)\n",
        "  previsao = rede_neural.predict(imagem_teste)\n",
        "  if previsao > 0.5:\n",
        "    print('Gato')\n",
        "  else:\n",
        "    print('Cachorro')"
      ],
      "execution_count": null,
      "outputs": []
    },
    {
      "cell_type": "code",
      "metadata": {
        "colab": {
          "base_uri": "https://localhost:8080/"
        },
        "id": "OOSkHRUnqgCK",
        "outputId": "bc0a4c6b-39ad-4dee-9438-b699d7aa4d84"
      },
      "source": [
        "cat_or_dog('/content/drive/MyDrive/Dataset redes neurais convolucionais/dataset/test_set/gato/cat.3508.jpg')"
      ],
      "execution_count": null,
      "outputs": [
        {
          "output_type": "stream",
          "text": [
            "Gato\n"
          ],
          "name": "stdout"
        }
      ]
    }
  ]
}