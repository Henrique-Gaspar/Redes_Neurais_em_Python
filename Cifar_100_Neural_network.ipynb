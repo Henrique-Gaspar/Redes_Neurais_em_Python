{
  "nbformat": 4,
  "nbformat_minor": 0,
  "metadata": {
    "colab": {
      "name": "Cifar 100 - Neural network",
      "provenance": [],
      "collapsed_sections": []
    },
    "kernelspec": {
      "name": "python3",
      "display_name": "Python 3"
    },
    "language_info": {
      "name": "python"
    }
  },
  "cells": [
    {
      "cell_type": "code",
      "metadata": {
        "id": "uDO1jUDDfgf-"
      },
      "source": [
        "from keras.models import Sequential\n",
        "from keras.layers import Dense, Dropout, Conv2D, MaxPool2D, Flatten\n",
        "from keras.layers.normalization import BatchNormalization\n",
        "from keras.preprocessing.image import ImageDataGenerator\n",
        "from keras.datasets import cifar100\n",
        "from keras.preprocessing import image\n",
        "from keras.utils import np_utils\n",
        "## --------------------------------------------\n",
        "import pandas as pd\n",
        "import numpy as np"
      ],
      "execution_count": 20,
      "outputs": []
    },
    {
      "cell_type": "code",
      "metadata": {
        "id": "MWG6RwRggZBE"
      },
      "source": [
        "(x_train, y_train),(x_test, y_test) = cifar100.load_data()"
      ],
      "execution_count": 21,
      "outputs": []
    },
    {
      "cell_type": "code",
      "metadata": {
        "colab": {
          "base_uri": "https://localhost:8080/"
        },
        "id": "n5wBq5D9692u",
        "outputId": "c4d8066d-7862-43f8-8873-e6cc809ecd90"
      },
      "source": [
        "x_train.shape"
      ],
      "execution_count": 22,
      "outputs": [
        {
          "output_type": "execute_result",
          "data": {
            "text/plain": [
              "(50000, 32, 32, 3)"
            ]
          },
          "metadata": {
            "tags": []
          },
          "execution_count": 22
        }
      ]
    },
    {
      "cell_type": "code",
      "metadata": {
        "colab": {
          "base_uri": "https://localhost:8080/"
        },
        "id": "eeyATP467Pyt",
        "outputId": "b743728d-c82d-4402-aaf6-38be6011f1ed"
      },
      "source": [
        "x_test.shape"
      ],
      "execution_count": 23,
      "outputs": [
        {
          "output_type": "execute_result",
          "data": {
            "text/plain": [
              "(10000, 32, 32, 3)"
            ]
          },
          "metadata": {
            "tags": []
          },
          "execution_count": 23
        }
      ]
    },
    {
      "cell_type": "code",
      "metadata": {
        "id": "mX-3xUwrwVYJ"
      },
      "source": [
        "x_train = x_train.reshape(50000, 32, 32, 3).astype('float32')\n",
        "\n",
        "x_test = x_test.reshape(10000, 32, 32, 3).astype('float32')\n",
        "\n",
        "x_train/=255\n",
        "\n",
        "x_test/=255"
      ],
      "execution_count": 24,
      "outputs": []
    },
    {
      "cell_type": "code",
      "metadata": {
        "id": "BzYqceZi0PEB"
      },
      "source": [
        "y_train = np_utils.to_categorical(y_train, num_classes=100)\n",
        "y_test = np_utils.to_categorical(y_test, num_classes=100)"
      ],
      "execution_count": 25,
      "outputs": []
    },
    {
      "cell_type": "code",
      "metadata": {
        "colab": {
          "base_uri": "https://localhost:8080/"
        },
        "id": "aqKbdev27bvR",
        "outputId": "174baeb7-3078-4e48-f109-a4688e847281"
      },
      "source": [
        "rede_neural = Sequential()\n",
        "\n",
        "rede_neural.add(Conv2D(filters=32, kernel_size=(3,3), input_shape=(32,32,3), activation='relu'))\n",
        "rede_neural.add(BatchNormalization())\n",
        "rede_neural.add(MaxPool2D(pool_size=(2,2)))\n",
        "\n",
        "rede_neural.add(Conv2D(filters=32, kernel_size=(3,3), activation='relu'))\n",
        "rede_neural.add(BatchNormalization())\n",
        "rede_neural.add(MaxPool2D(pool_size=(2,2)))\n",
        "rede_neural.add(Flatten())\n",
        "\n",
        "rede_neural.add(Dense(units=1024, activation='relu'))\n",
        "rede_neural.add(Dense(units=256, activation='relu'))\n",
        "rede_neural.add(Dense(units=256, activation='relu'))\n",
        "rede_neural.add(Dense(units=100, activation='softmax'))\n",
        "\n",
        "rede_neural.compile(loss='categorical_crossentropy', optimizer='adam', metrics=['accuracy'])\n",
        "\n",
        "gerador_imagens = ImageDataGenerator(rotation_range=7,\n",
        "                                     horizontal_flip = True,\n",
        "                                     shear_range = 0.2,\n",
        "                                     height_shift_range = 0.07,\n",
        "                                     zoom_range = 0.2)\n",
        "gerador_teste = ImageDataGenerator()\n",
        "\n",
        "base_treinamento = gerador_imagens.flow(x_train, y_train, batch_size=128)\n",
        "base_teste = gerador_teste.flow(x_test, y_test, batch_size=128)\n",
        "\n",
        "rede_neural.fit_generator(base_treinamento, steps_per_epoch=50000/128, epochs=20, validation_data=base_teste, validation_steps=10000/128)"
      ],
      "execution_count": 29,
      "outputs": [
        {
          "output_type": "stream",
          "text": [
            "/usr/local/lib/python3.7/dist-packages/tensorflow/python/keras/engine/training.py:1844: UserWarning: `Model.fit_generator` is deprecated and will be removed in a future version. Please use `Model.fit`, which supports generators.\n",
            "  warnings.warn('`Model.fit_generator` is deprecated and '\n"
          ],
          "name": "stderr"
        },
        {
          "output_type": "stream",
          "text": [
            "Epoch 1/20\n",
            "390/390 [==============================] - 103s 261ms/step - loss: 3.9197 - accuracy: 0.1150 - val_loss: 3.8854 - val_accuracy: 0.1299\n",
            "Epoch 2/20\n",
            "390/390 [==============================] - 102s 261ms/step - loss: 3.0236 - accuracy: 0.2523 - val_loss: 3.3016 - val_accuracy: 0.2396\n",
            "Epoch 3/20\n",
            "390/390 [==============================] - 105s 269ms/step - loss: 2.6866 - accuracy: 0.3250 - val_loss: 2.7996 - val_accuracy: 0.3040\n",
            "Epoch 4/20\n",
            "390/390 [==============================] - 103s 265ms/step - loss: 2.4827 - accuracy: 0.3649 - val_loss: 2.7093 - val_accuracy: 0.3238\n",
            "Epoch 5/20\n",
            "390/390 [==============================] - 103s 264ms/step - loss: 2.3169 - accuracy: 0.3945 - val_loss: 2.5541 - val_accuracy: 0.3600\n",
            "Epoch 6/20\n",
            "390/390 [==============================] - 103s 264ms/step - loss: 2.2079 - accuracy: 0.4209 - val_loss: 2.6773 - val_accuracy: 0.3579\n",
            "Epoch 7/20\n",
            "390/390 [==============================] - 103s 264ms/step - loss: 2.0721 - accuracy: 0.4505 - val_loss: 2.6204 - val_accuracy: 0.3589\n",
            "Epoch 8/20\n",
            "390/390 [==============================] - 104s 265ms/step - loss: 1.9538 - accuracy: 0.4773 - val_loss: 2.6384 - val_accuracy: 0.3571\n",
            "Epoch 9/20\n",
            "390/390 [==============================] - 103s 263ms/step - loss: 1.8751 - accuracy: 0.4928 - val_loss: 2.5809 - val_accuracy: 0.3827\n",
            "Epoch 10/20\n",
            "390/390 [==============================] - 103s 263ms/step - loss: 1.7950 - accuracy: 0.5152 - val_loss: 2.4563 - val_accuracy: 0.3967\n",
            "Epoch 11/20\n",
            "390/390 [==============================] - 103s 264ms/step - loss: 1.7087 - accuracy: 0.5313 - val_loss: 2.4644 - val_accuracy: 0.4013\n",
            "Epoch 12/20\n",
            "390/390 [==============================] - 104s 265ms/step - loss: 1.6513 - accuracy: 0.5470 - val_loss: 2.3870 - val_accuracy: 0.4220\n",
            "Epoch 13/20\n",
            "390/390 [==============================] - 103s 264ms/step - loss: 1.5727 - accuracy: 0.5588 - val_loss: 2.5214 - val_accuracy: 0.3994\n",
            "Epoch 14/20\n",
            "390/390 [==============================] - 103s 264ms/step - loss: 1.5026 - accuracy: 0.5826 - val_loss: 2.5374 - val_accuracy: 0.4113\n",
            "Epoch 15/20\n",
            "390/390 [==============================] - 104s 266ms/step - loss: 1.4739 - accuracy: 0.5886 - val_loss: 2.3395 - val_accuracy: 0.4338\n",
            "Epoch 16/20\n",
            "390/390 [==============================] - 104s 265ms/step - loss: 1.4263 - accuracy: 0.6012 - val_loss: 2.3559 - val_accuracy: 0.4340\n",
            "Epoch 17/20\n",
            "390/390 [==============================] - 103s 264ms/step - loss: 1.3874 - accuracy: 0.6106 - val_loss: 2.3945 - val_accuracy: 0.4253\n",
            "Epoch 18/20\n",
            "390/390 [==============================] - 103s 263ms/step - loss: 1.3361 - accuracy: 0.6197 - val_loss: 2.4513 - val_accuracy: 0.4330\n",
            "Epoch 19/20\n",
            "390/390 [==============================] - 103s 264ms/step - loss: 1.2944 - accuracy: 0.6340 - val_loss: 2.4794 - val_accuracy: 0.4353\n",
            "Epoch 20/20\n",
            "390/390 [==============================] - 103s 264ms/step - loss: 1.2502 - accuracy: 0.6414 - val_loss: 2.4359 - val_accuracy: 0.4369\n"
          ],
          "name": "stdout"
        },
        {
          "output_type": "execute_result",
          "data": {
            "text/plain": [
              "<tensorflow.python.keras.callbacks.History at 0x7fd410cbb090>"
            ]
          },
          "metadata": {
            "tags": []
          },
          "execution_count": 29
        }
      ]
    },
    {
      "cell_type": "code",
      "metadata": {
        "colab": {
          "base_uri": "https://localhost:8080/"
        },
        "id": "FEG9pwDrZra_",
        "outputId": "70d8eb2e-656f-4b7a-ebb0-f2307ad9492f"
      },
      "source": [
        "rede_neural.evaluate(x_test, y_test)"
      ],
      "execution_count": 33,
      "outputs": [
        {
          "output_type": "stream",
          "text": [
            "313/313 [==============================] - 5s 17ms/step - loss: 2.4359 - accuracy: 0.4369\n"
          ],
          "name": "stdout"
        },
        {
          "output_type": "execute_result",
          "data": {
            "text/plain": [
              "[2.435892343521118, 0.43689998984336853]"
            ]
          },
          "metadata": {
            "tags": []
          },
          "execution_count": 33
        }
      ]
    }
  ]
}